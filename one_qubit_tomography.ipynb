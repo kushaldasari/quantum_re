{
 "cells": [
  {
   "cell_type": "code",
   "execution_count": 1,
   "metadata": {},
   "outputs": [],
   "source": [
    "import numpy as np\n",
    "\n",
    "import matplotlib.pyplot as plt\n",
    "# from scinet import *\n",
    "import ed_quantum as edq\n",
    "%load_ext autoreload"
   ]
  },
  {
   "cell_type": "markdown",
   "metadata": {},
   "source": [
    "for data creation and saving the the model"
   ]
  },
  {
   "cell_type": "code",
   "execution_count": 2,
   "metadata": {},
   "outputs": [],
   "source": [
    "# # %autoreload\n",
    "# for inc_tom_m1 in [2, False]:\n",
    "#     label = 'incomp' if inc_tom_m1 else 'comp'\n",
    "#     edq.create_data(1, 10, 10, 100000, 'one_qubit_{}'.format(label), incomplete_tomography=[inc_tom_m1, False])\n",
    "#     td, vd, ts, vs, projectors = dl.load(5, 'one_qubit_{}'.format(label))\n",
    "#     for s in range(5):\n",
    "#         for i in range(3):\n",
    "#             name = 'one_qubit_{}_{}_{}'.format(label, s, i)\n",
    "#             net = nn.Network(10, s, 10, 1, name=name, encoder_num_units=[100, 100], decoder_num_units=[100, 100])\n",
    "#             net.train(250, 512, 1e-3, td, vd, beta_fun=lambda x: 1.e-4, test_step=10)\n",
    "#             net.train(50, 512, 1e-4, td, vd, beta_fun=lambda x: 1.e-4, test_step=10)\n",
    "#             net.save(name)\n",
    "#             ra = net.run(vd, net.recon_loss)\n",
    "#             print ra"
   ]
  },
  {
   "cell_type": "code",
   "execution_count": 3,
   "metadata": {},
   "outputs": [],
   "source": [
    "import data_loader as dl\n"
   ]
  },
  {
   "cell_type": "code",
   "execution_count": 4,
   "metadata": {},
   "outputs": [],
   "source": [
    "import model as nn"
   ]
  },
  {
   "cell_type": "markdown",
   "metadata": {},
   "source": [
    "## Load pre-trained models"
   ]
  },
  {
   "cell_type": "code",
   "execution_count": 5,
   "metadata": {
    "scrolled": true
   },
   "outputs": [
    {
     "name": "stdout",
     "output_type": "stream",
     "text": [
      "{'decoder_num_units': [100, 100], 'input2_size': 10, 'tot_epochs': 300, 'latent_size': 0, 'output_size': 1, 'encoder_num_units': [100, 100], 'input_size': 10, 'name': 'one_qubit_comp_0_0', 'load_file': 'one_qubit_comp_0_0'}\n",
      "INFO:tensorflow:Restoring parameters from /Users/karthikeyavadlamudi/Desktop/tf_save/one_qubit_comp_0_0.ckpt\n",
      "Loaded network from file one_qubit_comp_0_0\n",
      "0.29846773\n",
      "{'decoder_num_units': [100, 100], 'input2_size': 10, 'tot_epochs': 300, 'latent_size': 0, 'output_size': 1, 'encoder_num_units': [100, 100], 'input_size': 10, 'name': 'one_qubit_comp_0_1', 'load_file': 'one_qubit_comp_0_1'}\n",
      "INFO:tensorflow:Restoring parameters from /Users/karthikeyavadlamudi/Desktop/tf_save/one_qubit_comp_0_1.ckpt\n",
      "Loaded network from file one_qubit_comp_0_1\n",
      "0.29846236\n",
      "{'decoder_num_units': [100, 100], 'input2_size': 10, 'tot_epochs': 300, 'latent_size': 0, 'output_size': 1, 'encoder_num_units': [100, 100], 'input_size': 10, 'name': 'one_qubit_comp_0_2', 'load_file': 'one_qubit_comp_0_2'}\n",
      "INFO:tensorflow:Restoring parameters from /Users/karthikeyavadlamudi/Desktop/tf_save/one_qubit_comp_0_2.ckpt\n",
      "Loaded network from file one_qubit_comp_0_2\n",
      "0.29847747\n",
      "{'decoder_num_units': [100, 100], 'input2_size': 10, 'tot_epochs': 300, 'latent_size': 1, 'output_size': 1, 'encoder_num_units': [100, 100], 'input_size': 10, 'name': 'one_qubit_comp_1_0', 'load_file': 'one_qubit_comp_1_0'}\n",
      "INFO:tensorflow:Restoring parameters from /Users/karthikeyavadlamudi/Desktop/tf_save/one_qubit_comp_1_0.ckpt\n",
      "Loaded network from file one_qubit_comp_1_0\n",
      "0.1378985\n",
      "{'decoder_num_units': [100, 100], 'input2_size': 10, 'tot_epochs': 300, 'latent_size': 1, 'output_size': 1, 'encoder_num_units': [100, 100], 'input_size': 10, 'name': 'one_qubit_comp_1_1', 'load_file': 'one_qubit_comp_1_1'}\n",
      "INFO:tensorflow:Restoring parameters from /Users/karthikeyavadlamudi/Desktop/tf_save/one_qubit_comp_1_1.ckpt\n",
      "Loaded network from file one_qubit_comp_1_1\n",
      "0.136388\n",
      "{'decoder_num_units': [100, 100], 'input2_size': 10, 'tot_epochs': 300, 'latent_size': 1, 'output_size': 1, 'encoder_num_units': [100, 100], 'input_size': 10, 'name': 'one_qubit_comp_1_2', 'load_file': 'one_qubit_comp_1_2'}\n",
      "INFO:tensorflow:Restoring parameters from /Users/karthikeyavadlamudi/Desktop/tf_save/one_qubit_comp_1_2.ckpt\n",
      "Loaded network from file one_qubit_comp_1_2\n",
      "0.13493125\n",
      "{'decoder_num_units': [100, 100], 'input2_size': 10, 'tot_epochs': 300, 'latent_size': 2, 'output_size': 1, 'encoder_num_units': [100, 100], 'input_size': 10, 'name': 'one_qubit_comp_2_0', 'load_file': 'one_qubit_comp_2_0'}\n",
      "INFO:tensorflow:Restoring parameters from /Users/karthikeyavadlamudi/Desktop/tf_save/one_qubit_comp_2_0.ckpt\n",
      "Loaded network from file one_qubit_comp_2_0\n",
      "0.01316737\n",
      "{'decoder_num_units': [100, 100], 'input2_size': 10, 'tot_epochs': 300, 'latent_size': 2, 'output_size': 1, 'encoder_num_units': [100, 100], 'input_size': 10, 'name': 'one_qubit_comp_2_1', 'load_file': 'one_qubit_comp_2_1'}\n",
      "INFO:tensorflow:Restoring parameters from /Users/karthikeyavadlamudi/Desktop/tf_save/one_qubit_comp_2_1.ckpt\n",
      "Loaded network from file one_qubit_comp_2_1\n",
      "0.009324065\n",
      "{'decoder_num_units': [100, 100], 'input2_size': 10, 'tot_epochs': 300, 'latent_size': 2, 'output_size': 1, 'encoder_num_units': [100, 100], 'input_size': 10, 'name': 'one_qubit_comp_2_2', 'load_file': 'one_qubit_comp_2_2'}\n",
      "INFO:tensorflow:Restoring parameters from /Users/karthikeyavadlamudi/Desktop/tf_save/one_qubit_comp_2_2.ckpt\n",
      "Loaded network from file one_qubit_comp_2_2\n",
      "0.012558945\n",
      "{'decoder_num_units': [100, 100], 'input2_size': 10, 'tot_epochs': 300, 'latent_size': 3, 'output_size': 1, 'encoder_num_units': [100, 100], 'input_size': 10, 'name': 'one_qubit_comp_3_0', 'load_file': 'one_qubit_comp_3_0'}\n",
      "INFO:tensorflow:Restoring parameters from /Users/karthikeyavadlamudi/Desktop/tf_save/one_qubit_comp_3_0.ckpt\n",
      "Loaded network from file one_qubit_comp_3_0\n",
      "0.003512347\n",
      "{'decoder_num_units': [100, 100], 'input2_size': 10, 'tot_epochs': 300, 'latent_size': 3, 'output_size': 1, 'encoder_num_units': [100, 100], 'input_size': 10, 'name': 'one_qubit_comp_3_1', 'load_file': 'one_qubit_comp_3_1'}\n",
      "INFO:tensorflow:Restoring parameters from /Users/karthikeyavadlamudi/Desktop/tf_save/one_qubit_comp_3_1.ckpt\n",
      "Loaded network from file one_qubit_comp_3_1\n",
      "0.0035175555\n",
      "{'decoder_num_units': [100, 100], 'input2_size': 10, 'tot_epochs': 300, 'latent_size': 3, 'output_size': 1, 'encoder_num_units': [100, 100], 'input_size': 10, 'name': 'one_qubit_comp_3_2', 'load_file': 'one_qubit_comp_3_2'}\n",
      "INFO:tensorflow:Restoring parameters from /Users/karthikeyavadlamudi/Desktop/tf_save/one_qubit_comp_3_2.ckpt\n",
      "Loaded network from file one_qubit_comp_3_2\n",
      "0.0041909036\n",
      "{'decoder_num_units': [100, 100], 'input2_size': 10, 'tot_epochs': 300, 'latent_size': 4, 'output_size': 1, 'encoder_num_units': [100, 100], 'input_size': 10, 'name': 'one_qubit_comp_4_0', 'load_file': 'one_qubit_comp_4_0'}\n",
      "INFO:tensorflow:Restoring parameters from /Users/karthikeyavadlamudi/Desktop/tf_save/one_qubit_comp_4_0.ckpt\n",
      "Loaded network from file one_qubit_comp_4_0\n",
      "0.00359109\n",
      "{'decoder_num_units': [100, 100], 'input2_size': 10, 'tot_epochs': 300, 'latent_size': 4, 'output_size': 1, 'encoder_num_units': [100, 100], 'input_size': 10, 'name': 'one_qubit_comp_4_1', 'load_file': 'one_qubit_comp_4_1'}\n",
      "INFO:tensorflow:Restoring parameters from /Users/karthikeyavadlamudi/Desktop/tf_save/one_qubit_comp_4_1.ckpt\n",
      "Loaded network from file one_qubit_comp_4_1\n",
      "0.0037427396\n",
      "{'decoder_num_units': [100, 100], 'input2_size': 10, 'tot_epochs': 300, 'latent_size': 4, 'output_size': 1, 'encoder_num_units': [100, 100], 'input_size': 10, 'name': 'one_qubit_comp_4_2', 'load_file': 'one_qubit_comp_4_2'}\n",
      "INFO:tensorflow:Restoring parameters from /Users/karthikeyavadlamudi/Desktop/tf_save/one_qubit_comp_4_2.ckpt\n",
      "Loaded network from file one_qubit_comp_4_2\n",
      "0.0041239974\n",
      "{'decoder_num_units': [100, 100], 'input2_size': 10, 'tot_epochs': 300, 'latent_size': 0, 'output_size': 1, 'encoder_num_units': [100, 100], 'input_size': 10, 'name': 'one_qubit_incomp_0_0', 'load_file': 'one_qubit_incomp_0_0'}\n",
      "INFO:tensorflow:Restoring parameters from /Users/karthikeyavadlamudi/Desktop/tf_save/one_qubit_incomp_0_0.ckpt\n",
      "Loaded network from file one_qubit_incomp_0_0\n",
      "0.29411012\n",
      "{'decoder_num_units': [100, 100], 'input2_size': 10, 'tot_epochs': 300, 'latent_size': 0, 'output_size': 1, 'encoder_num_units': [100, 100], 'input_size': 10, 'name': 'one_qubit_incomp_0_1', 'load_file': 'one_qubit_incomp_0_1'}\n",
      "INFO:tensorflow:Restoring parameters from /Users/karthikeyavadlamudi/Desktop/tf_save/one_qubit_incomp_0_1.ckpt\n",
      "Loaded network from file one_qubit_incomp_0_1\n",
      "0.29412228\n",
      "{'decoder_num_units': [100, 100], 'input2_size': 10, 'tot_epochs': 300, 'latent_size': 0, 'output_size': 1, 'encoder_num_units': [100, 100], 'input_size': 10, 'name': 'one_qubit_incomp_0_2', 'load_file': 'one_qubit_incomp_0_2'}\n",
      "INFO:tensorflow:Restoring parameters from /Users/karthikeyavadlamudi/Desktop/tf_save/one_qubit_incomp_0_2.ckpt\n",
      "Loaded network from file one_qubit_incomp_0_2\n",
      "0.29411253\n",
      "{'decoder_num_units': [100, 100], 'input2_size': 10, 'tot_epochs': 300, 'latent_size': 1, 'output_size': 1, 'encoder_num_units': [100, 100], 'input_size': 10, 'name': 'one_qubit_incomp_1_0', 'load_file': 'one_qubit_incomp_1_0'}\n",
      "INFO:tensorflow:Restoring parameters from /Users/karthikeyavadlamudi/Desktop/tf_save/one_qubit_incomp_1_0.ckpt\n",
      "Loaded network from file one_qubit_incomp_1_0\n",
      "0.1546501\n",
      "{'decoder_num_units': [100, 100], 'input2_size': 10, 'tot_epochs': 300, 'latent_size': 1, 'output_size': 1, 'encoder_num_units': [100, 100], 'input_size': 10, 'name': 'one_qubit_incomp_1_1', 'load_file': 'one_qubit_incomp_1_1'}\n",
      "INFO:tensorflow:Restoring parameters from /Users/karthikeyavadlamudi/Desktop/tf_save/one_qubit_incomp_1_1.ckpt\n",
      "Loaded network from file one_qubit_incomp_1_1\n",
      "0.1519188\n",
      "{'decoder_num_units': [100, 100], 'input2_size': 10, 'tot_epochs': 300, 'latent_size': 1, 'output_size': 1, 'encoder_num_units': [100, 100], 'input_size': 10, 'name': 'one_qubit_incomp_1_2', 'load_file': 'one_qubit_incomp_1_2'}\n",
      "INFO:tensorflow:Restoring parameters from /Users/karthikeyavadlamudi/Desktop/tf_save/one_qubit_incomp_1_2.ckpt\n",
      "Loaded network from file one_qubit_incomp_1_2\n",
      "0.15437059\n",
      "{'decoder_num_units': [100, 100], 'input2_size': 10, 'tot_epochs': 300, 'latent_size': 2, 'output_size': 1, 'encoder_num_units': [100, 100], 'input_size': 10, 'name': 'one_qubit_incomp_2_0', 'load_file': 'one_qubit_incomp_2_0'}\n",
      "INFO:tensorflow:Restoring parameters from /Users/karthikeyavadlamudi/Desktop/tf_save/one_qubit_incomp_2_0.ckpt\n",
      "Loaded network from file one_qubit_incomp_2_0\n",
      "0.13487378\n",
      "{'decoder_num_units': [100, 100], 'input2_size': 10, 'tot_epochs': 300, 'latent_size': 2, 'output_size': 1, 'encoder_num_units': [100, 100], 'input_size': 10, 'name': 'one_qubit_incomp_2_1', 'load_file': 'one_qubit_incomp_2_1'}\n",
      "INFO:tensorflow:Restoring parameters from /Users/karthikeyavadlamudi/Desktop/tf_save/one_qubit_incomp_2_1.ckpt\n",
      "Loaded network from file one_qubit_incomp_2_1\n",
      "0.13476588\n",
      "{'decoder_num_units': [100, 100], 'input2_size': 10, 'tot_epochs': 300, 'latent_size': 2, 'output_size': 1, 'encoder_num_units': [100, 100], 'input_size': 10, 'name': 'one_qubit_incomp_2_2', 'load_file': 'one_qubit_incomp_2_2'}\n",
      "INFO:tensorflow:Restoring parameters from /Users/karthikeyavadlamudi/Desktop/tf_save/one_qubit_incomp_2_2.ckpt\n",
      "Loaded network from file one_qubit_incomp_2_2\n",
      "0.13497524\n",
      "{'decoder_num_units': [100, 100], 'input2_size': 10, 'tot_epochs': 300, 'latent_size': 3, 'output_size': 1, 'encoder_num_units': [100, 100], 'input_size': 10, 'name': 'one_qubit_incomp_3_0', 'load_file': 'one_qubit_incomp_3_0'}\n",
      "INFO:tensorflow:Restoring parameters from /Users/karthikeyavadlamudi/Desktop/tf_save/one_qubit_incomp_3_0.ckpt\n",
      "Loaded network from file one_qubit_incomp_3_0\n",
      "0.13489826\n",
      "{'decoder_num_units': [100, 100], 'input2_size': 10, 'tot_epochs': 300, 'latent_size': 3, 'output_size': 1, 'encoder_num_units': [100, 100], 'input_size': 10, 'name': 'one_qubit_incomp_3_1', 'load_file': 'one_qubit_incomp_3_1'}\n",
      "INFO:tensorflow:Restoring parameters from /Users/karthikeyavadlamudi/Desktop/tf_save/one_qubit_incomp_3_1.ckpt\n",
      "Loaded network from file one_qubit_incomp_3_1\n",
      "0.13428755\n",
      "{'decoder_num_units': [100, 100], 'input2_size': 10, 'tot_epochs': 300, 'latent_size': 3, 'output_size': 1, 'encoder_num_units': [100, 100], 'input_size': 10, 'name': 'one_qubit_incomp_3_2', 'load_file': 'one_qubit_incomp_3_2'}\n",
      "INFO:tensorflow:Restoring parameters from /Users/karthikeyavadlamudi/Desktop/tf_save/one_qubit_incomp_3_2.ckpt\n",
      "Loaded network from file one_qubit_incomp_3_2\n",
      "0.13521314\n",
      "{'decoder_num_units': [100, 100], 'input2_size': 10, 'tot_epochs': 300, 'latent_size': 4, 'output_size': 1, 'encoder_num_units': [100, 100], 'input_size': 10, 'name': 'one_qubit_incomp_4_0', 'load_file': 'one_qubit_incomp_4_0'}\n",
      "INFO:tensorflow:Restoring parameters from /Users/karthikeyavadlamudi/Desktop/tf_save/one_qubit_incomp_4_0.ckpt\n",
      "Loaded network from file one_qubit_incomp_4_0\n",
      "0.13458878\n",
      "{'decoder_num_units': [100, 100], 'input2_size': 10, 'tot_epochs': 300, 'latent_size': 4, 'output_size': 1, 'encoder_num_units': [100, 100], 'input_size': 10, 'name': 'one_qubit_incomp_4_1', 'load_file': 'one_qubit_incomp_4_1'}\n",
      "INFO:tensorflow:Restoring parameters from /Users/karthikeyavadlamudi/Desktop/tf_save/one_qubit_incomp_4_1.ckpt\n",
      "Loaded network from file one_qubit_incomp_4_1\n",
      "0.13489795\n",
      "{'decoder_num_units': [100, 100], 'input2_size': 10, 'tot_epochs': 300, 'latent_size': 4, 'output_size': 1, 'encoder_num_units': [100, 100], 'input_size': 10, 'name': 'one_qubit_incomp_4_2', 'load_file': 'one_qubit_incomp_4_2'}\n",
      "INFO:tensorflow:Restoring parameters from /Users/karthikeyavadlamudi/Desktop/tf_save/one_qubit_incomp_4_2.ckpt\n",
      "Loaded network from file one_qubit_incomp_4_2\n",
      "0.13500924\n"
     ]
    }
   ],
   "source": [
    "err = []\n",
    "for label in ['comp', 'incomp']:\n",
    "    file_name = 'one_qubit_{}'.format(label)\n",
    "    td, vd, ts, vs, projectors = dl.load(5, file_name)\n",
    "    err_label = []\n",
    "    for s in range(5):\n",
    "        err_s = []\n",
    "        for i in range(3):\n",
    "            name = 'one_qubit_{}_{}_{}'.format(label, s, i)\n",
    "            net = nn.Network.from_saved(name)\n",
    "            print(np.sqrt(net.run(vd, net.recon_loss)))\n",
    "            err_s.append(np.sqrt(net.run(vd, net.recon_loss)))\n",
    "        err_label.append(min(err_s))\n",
    "    err.append(err_label)"
   ]
  },
  {
   "cell_type": "code",
   "execution_count": null,
   "metadata": {},
   "outputs": [],
   "source": []
  },
  {
   "cell_type": "code",
   "execution_count": 6,
   "metadata": {},
   "outputs": [],
   "source": [
    "# latent_neurons = np.arange(5)\n",
    "# blue_color='#000cff'\n",
    "# orange_color='#ff7700'\n",
    "# fig = plt.figure(figsize=(3.4, 2.1))\n",
    "# ax = fig.add_subplot(111)\n",
    "# width = 0.32\n",
    "# ax.bar(latent_neurons - width/2., err[0], width=width, label='Tom. complete', color=blue_color)\n",
    "# ax.bar(latent_neurons + width/2., err[1], width=width, label='Tom. incomplete', color=orange_color)\n",
    "# ax.legend()\n",
    "# ax.set_xticks(latent_neurons)\n",
    "# ax.set_xlabel('Number of latent neurons')\n",
    "# ax.set_ylabel('Error of predictions')\n",
    "# fig.tight_layout()"
   ]
  },
  {
   "cell_type": "code",
   "execution_count": 7,
   "metadata": {},
   "outputs": [
    {
     "data": {
      "image/png": "[encoded data removed]",
      "text/plain": [
       "<Figure size 340x210 with 1 Axes>"
      ]
     },
     "metadata": {},
     "output_type": "display_data"
    }
   ],
   "source": [
    "import numpy as np\n",
    "import matplotlib.pyplot as plt\n",
    "\n",
    "\n",
    "latent_neurons = np.arange(5)\n",
    "blue_color = '#FF0000'  # Changing blue color to cyan\n",
    "orange_color = '#FFA500'  # Changing orange color to orange\n",
    "\n",
    "fig = plt.figure(figsize=(3.4, 2.1))\n",
    "ax = fig.add_subplot(111)\n",
    "width = 0.32\n",
    "ax.bar(latent_neurons - width/2., err[0], width=width, label='Tom. complete', color=blue_color)\n",
    "ax.bar(latent_neurons + width/2., err[1], width=width, label='Tom. incomplete', color=orange_color)\n",
    "ax.legend()\n",
    "ax.set_xticks(latent_neurons)\n",
    "ax.set_xlabel('Number of latent neurons')\n",
    "ax.set_ylabel('Error of predictions')\n",
    "fig.tight_layout()\n",
    "\n",
    "# Find optimal latent neurons\n",
    "min_err_index = np.argmin(np.mean(err, axis=0))\n",
    "optimal_neurons = latent_neurons[min_err_index]\n",
    "# print(\"Optimal latent neurons:\", optimal_neurons)\n",
    "\n",
    "plt.show()\n"
   ]
  },
  {
   "cell_type": "code",
   "execution_count": null,
   "metadata": {},
   "outputs": [],
   "source": []
  },
  {
   "cell_type": "code",
   "execution_count": null,
   "metadata": {},
   "outputs": [],
   "source": []
  },
  {
   "cell_type": "code",
   "execution_count": null,
   "metadata": {},
   "outputs": [],
   "source": []
  },
  {
   "cell_type": "code",
   "execution_count": null,
   "metadata": {},
   "outputs": [],
   "source": []
  }
 ],
 "metadata": {
  "kernelspec": {
   "display_name": "Python 3",
   "language": "python",
   "name": "python3"
  },
  "language_info": {
   "codemirror_mode": {
    "name": "ipython",
    "version": 3
   },
   "file_extension": ".py",
   "mimetype": "text/x-python",
   "name": "python",
   "nbconvert_exporter": "python",
   "pygments_lexer": "ipython3",
   "version": "3.11.5"
  }
 },
 "nbformat": 4,
 "nbformat_minor": 2
}
